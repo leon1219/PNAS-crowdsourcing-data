{
 "cells": [
  {
   "cell_type": "markdown",
   "metadata": {},
   "source": [
    "### Multi-class Text Classification using Word Embeddings\n",
    "\n",
    "The code is adjusted from: https://github.com/emmanuellaanggi/disaster_tweet_sentiment/blob/master/(Medium)_Text_Classification_Disaster_Tweet_.ipynb\n",
    "Please also be reminded to cite their code when using it.\n",
    "\n",
    "The code is developed using Word Embedding and Bidirectional Long Short-Term Memory techniques. "
   ]
  },
  {
   "cell_type": "code",
   "execution_count": null,
   "metadata": {},
   "outputs": [],
   "source": [
    "# To download the word embeddings, please refer to the link\n",
    "\n",
    "import requests, zipfile, io\n",
    "\n",
    "# to refer to FastText\n",
    "zip_file_url = \"https://dl.fbaipublicfiles.com/fasttext/vectors-english/wiki-news-300d-1M.vec.zip\"\n",
    "\n",
    "# to refer to GloVe\n",
    "# zip_file_url = \"http://nlp.stanford.edu/data/glove.840B.300d.zip\"\n",
    "\n",
    "r = requests.get(zip_file_url)\n",
    "z = zipfile.ZipFile(io.BytesIO(r.content))\n",
    "z.extractall()"
   ]
  },
  {
   "cell_type": "code",
   "execution_count": 1,
   "metadata": {},
   "outputs": [],
   "source": [
    "import numpy as np\n",
    "import pandas as pd\n",
    "import seaborn as sns\n",
    "import matplotlib.pyplot as plt\n",
    "\n",
    "sns.set_style(\"whitegrid\")\n",
    "np.random.seed(0)\n",
    "\n",
    "%matplotlib inline"
   ]
  },
  {
   "cell_type": "code",
   "execution_count": 2,
   "metadata": {},
   "outputs": [
    {
     "name": "stdout",
     "output_type": "stream",
     "text": [
      "[nltk_data] Downloading package punkt to /Users/lingyaoli/nltk_data...\n",
      "[nltk_data]   Package punkt is already up-to-date!\n",
      "[nltk_data] Downloading package wordnet to\n",
      "[nltk_data]     /Users/lingyaoli/nltk_data...\n",
      "[nltk_data]   Package wordnet is already up-to-date!\n",
      "[nltk_data] Downloading package stopwords to\n",
      "[nltk_data]     /Users/lingyaoli/nltk_data...\n",
      "[nltk_data]   Package stopwords is already up-to-date!\n",
      "[nltk_data] Downloading package averaged_perceptron_tagger to\n",
      "[nltk_data]     /Users/lingyaoli/nltk_data...\n",
      "[nltk_data]   Package averaged_perceptron_tagger is already up-to-\n",
      "[nltk_data]       date!\n"
     ]
    }
   ],
   "source": [
    "# clean tweet data\n",
    "\n",
    "import re\n",
    "import nltk\n",
    "import emoji\n",
    "import string\n",
    "from nltk.stem import WordNetLemmatizer\n",
    "from nltk.corpus import wordnet\n",
    "from nltk.corpus import stopwords\n",
    "# prefer to create own stopword list\n",
    "\n",
    "nltk.download('punkt')\n",
    "nltk.download('wordnet')\n",
    "nltk.download('stopwords')\n",
    "nltk.download('averaged_perceptron_tagger')\n",
    "\n",
    "stop_words = set(stopwords.words('english'))\n",
    "lemmatizer = WordNetLemmatizer()\n",
    "\n",
    "def remove_punctuations(text):\n",
    "    text = text.translate(str.maketrans('', '', string.punctuation))\n",
    "    return text\n",
    "\n",
    "def remove_digits(text):\n",
    "    text = ''.join([digit for digit in text if not digit.isdigit()])\n",
    "    return text\n",
    "\n",
    "def remove_emojis(text):\n",
    "    text = re.sub(emoji.get_emoji_regexp(), r\"\", text)\n",
    "    return text\n",
    "\n",
    "def remove_stopwords(text):\n",
    "    text = ' '.join(word for word in text.split() if word not in stop_words)\n",
    "    return text\n",
    "\n",
    "def nltk2wn_tag(nltk_tag):\n",
    "    if nltk_tag.startswith('J'):\n",
    "        return wordnet.ADJ\n",
    "    elif nltk_tag.startswith('V'):\n",
    "        return wordnet.VERB\n",
    "    elif nltk_tag.startswith('N'):\n",
    "        return wordnet.NOUN\n",
    "    elif nltk_tag.startswith('R'):\n",
    "        return wordnet.ADV\n",
    "    else:          \n",
    "        return None\n",
    "    \n",
    "def lemmatize_text(text):\n",
    "    nltk_tagged = nltk.pos_tag(nltk.word_tokenize(text))  \n",
    "    wn_tagged = map(lambda x: (x[0], nltk2wn_tag(x[1])), nltk_tagged)\n",
    "    res_words = []\n",
    "    for word, tag in wn_tagged:\n",
    "        if tag is None:            \n",
    "            res_words.append(word)\n",
    "        else:\n",
    "            res_words.append(lemmatizer.lemmatize(word, tag))\n",
    "    return \" \".join(res_words)\n",
    "\n",
    "def clean_text(text):\n",
    "    text = text.replace(\"&#39;\", \"'\")\n",
    "    text = text.replace(\"&quot;\", \"\")\n",
    "    text = text.replace(\"&amp;\", \"\")\n",
    "    text = text.replace(\"‘\", \"'\")\n",
    "    text = text.replace(\"’\", \"'\")\n",
    "    text = text.replace(\"“\", \"'\")\n",
    "    text = text.replace(\"”\", \"'\")\n",
    "    text = text.replace(\" – \", \" \")\n",
    "    text = text.replace(\"—\", \" \")\n",
    "    text = text.replace(\"•\", \" \")\n",
    "    text = re.sub(r'http\\S+', '', text)\n",
    "    text = re.sub('(RT\\s@[A-Za-z0-9-_]+[A-Za-z0-9-_]: +)', '', text)\n",
    "    text = re.sub('(@[A-Za-z0-9-_]+[A-Za-z0-9-_]+)', '', text)\n",
    "    text = text.lower()\n",
    "    text = remove_punctuations(text)\n",
    "    text = remove_digits(text)\n",
    "    text = remove_emojis(text)\n",
    "    #text = remove_stopwords(text)\n",
    "    text = lemmatize_text(text)\n",
    "    return text"
   ]
  },
  {
   "cell_type": "code",
   "execution_count": 3,
   "metadata": {},
   "outputs": [
    {
     "name": "stdout",
     "output_type": "stream",
     "text": [
      "Number of training data  2498\n",
      "Number of testing data:  800\n"
     ]
    }
   ],
   "source": [
    "# read original training and testing data files\n",
    "\n",
    "train_df = pd.read_excel('training_2.xlsx')\n",
    "test_df = pd.read_excel('testing_2.xlsx')\n",
    "\n",
    "train_df['clean_text'] = train_df['text'].apply(clean_text)\n",
    "test_df['clean_text'] = test_df['text'].apply(clean_text)\n",
    "\n",
    "print(\"Number of training data \", train_df.shape[0])\n",
    "print(\"Number of testing data: \", test_df.shape[0])"
   ]
  },
  {
   "cell_type": "code",
   "execution_count": null,
   "metadata": {},
   "outputs": [],
   "source": [
    "# read augmented training data files\n",
    "\n",
    "dff1 = pd.read_csv('earthquake_1_aug.txt', sep='\\t', names=[\"label\",\"clean_text\"])\n",
    "dff1 = dff1.sample(frac=1)\n",
    "dff2 = pd.read_csv('earthquake_2_aug.txt', sep='\\t', names=[\"label\",\"clean_text\"])\n",
    "dff2 = dff2.sample(frac=1)\n",
    "dff3 = pd.read_csv('earthquake_3_aug.txt', sep='\\t', names=[\"label\",\"clean_text\"])\n",
    "dff3 = dff3.sample(frac=1)\n",
    "dff0 = pd.read_csv('earthquake_0_aug.txt', sep='\\t', names=[\"label\",\"clean_text\"])\n",
    "dff0 = dff0.sample(frac=1)\n",
    "\n",
    "train_df = pd.concat([dff1, dff2, dff3, dff0])\n",
    "\n",
    "test_df = pd.read_excel('testing_2.xlsx')\n",
    "test_df['clean_text'] = test_df['text'].apply(clean_text)\n",
    "\n",
    "print(\"Number of training data \", train_df.shape[0])\n",
    "print(\"Number of testing data: \", test_df.shape[0])"
   ]
  },
  {
   "cell_type": "code",
   "execution_count": 4,
   "metadata": {},
   "outputs": [
    {
     "data": {
      "text/plain": [
       "<matplotlib.axes._subplots.AxesSubplot at 0x1290ff978>"
      ]
     },
     "execution_count": 4,
     "metadata": {},
     "output_type": "execute_result"
    },
    {
     "data": {
      "image/png": "[encoded data removed]",
      "text/plain": [
       "<Figure size 432x216 with 1 Axes>"
      ]
     },
     "metadata": {
      "needs_background": "light"
     },
     "output_type": "display_data"
    }
   ],
   "source": [
    "labels = ['3', '2', '1', '0']\n",
    "plt.figure(figsize=(6,3))\n",
    "plt.title('classes distribution')\n",
    "train_df['label'].value_counts().plot(kind='bar')"
   ]
  },
  {
   "cell_type": "code",
   "execution_count": 5,
   "metadata": {},
   "outputs": [
    {
     "data": {
      "image/png": "[encoded data removed]",
      "text/plain": [
       "<Figure size 432x288 with 1 Axes>"
      ]
     },
     "metadata": {
      "needs_background": "light"
     },
     "output_type": "display_data"
    }
   ],
   "source": [
    "# view the length of tweets in the training dataset\n",
    "\n",
    "label_names = [\"label\"]\n",
    "y_train = train_df[label_names].values\n",
    "\n",
    "train_df['doc_len'] = train_df['clean_text'].apply(lambda words: len(words.split(\" \")))\n",
    "max_seq_len = np.round(train_df['doc_len'].mean() + train_df['doc_len'].std()).astype(int)\n",
    "\n",
    "sns.distplot(train_df['doc_len'], hist=True, kde=True, color='b', label='doc len')\n",
    "plt.axvline(x=max_seq_len, color='k', linestyle='--', label='max len')\n",
    "plt.title('comment length')\n",
    "plt.legend()\n",
    "plt.show()"
   ]
  },
  {
   "cell_type": "code",
   "execution_count": 6,
   "metadata": {},
   "outputs": [
    {
     "name": "stderr",
     "output_type": "stream",
     "text": [
      "1999996it [03:09, 10558.02it/s]"
     ]
    },
    {
     "name": "stdout",
     "output_type": "stream",
     "text": [
      "found 1999996 word vectors\n"
     ]
    },
    {
     "name": "stderr",
     "output_type": "stream",
     "text": [
      "\n"
     ]
    }
   ],
   "source": [
    "# import word embeddings\n",
    "\n",
    "import codecs\n",
    "from tqdm import tqdm\n",
    "\n",
    "embeddings_index = {}\n",
    "\n",
    "# apply FastText word embedding\n",
    "f = codecs.open('crawl-300d-2M.vec', encoding='utf-8')\n",
    "\n",
    "# apply GloVe word embedding\n",
    "# f = codecs.open('glove.840B.300d.txt', encoding='utf-8')\n",
    "\n",
    "for line in tqdm(f):\n",
    "    values = line.rstrip().rsplit(' ')\n",
    "    word = values[0]\n",
    "    coefs = np.asarray(values[1:], dtype='float32')\n",
    "    embeddings_index[word] = coefs\n",
    "f.close()\n",
    "\n",
    "print('found %s word vectors' % len(embeddings_index))"
   ]
  },
  {
   "cell_type": "code",
   "execution_count": 7,
   "metadata": {},
   "outputs": [
    {
     "name": "stderr",
     "output_type": "stream",
     "text": [
      "Using TensorFlow backend.\n",
      "/anaconda3/lib/python3.6/site-packages/tensorflow/python/framework/dtypes.py:523: FutureWarning: Passing (type, 1) or '1type' as a synonym of type is deprecated; in a future version of numpy, it will be understood as (type, (1,)) / '(1,)type'.\n",
      "  _np_qint8 = np.dtype([(\"qint8\", np.int8, 1)])\n",
      "/anaconda3/lib/python3.6/site-packages/tensorflow/python/framework/dtypes.py:524: FutureWarning: Passing (type, 1) or '1type' as a synonym of type is deprecated; in a future version of numpy, it will be understood as (type, (1,)) / '(1,)type'.\n",
      "  _np_quint8 = np.dtype([(\"quint8\", np.uint8, 1)])\n",
      "/anaconda3/lib/python3.6/site-packages/tensorflow/python/framework/dtypes.py:525: FutureWarning: Passing (type, 1) or '1type' as a synonym of type is deprecated; in a future version of numpy, it will be understood as (type, (1,)) / '(1,)type'.\n",
      "  _np_qint16 = np.dtype([(\"qint16\", np.int16, 1)])\n",
      "/anaconda3/lib/python3.6/site-packages/tensorflow/python/framework/dtypes.py:526: FutureWarning: Passing (type, 1) or '1type' as a synonym of type is deprecated; in a future version of numpy, it will be understood as (type, (1,)) / '(1,)type'.\n",
      "  _np_quint16 = np.dtype([(\"quint16\", np.uint16, 1)])\n",
      "/anaconda3/lib/python3.6/site-packages/tensorflow/python/framework/dtypes.py:527: FutureWarning: Passing (type, 1) or '1type' as a synonym of type is deprecated; in a future version of numpy, it will be understood as (type, (1,)) / '(1,)type'.\n",
      "  _np_qint32 = np.dtype([(\"qint32\", np.int32, 1)])\n",
      "/anaconda3/lib/python3.6/site-packages/tensorflow/python/framework/dtypes.py:532: FutureWarning: Passing (type, 1) or '1type' as a synonym of type is deprecated; in a future version of numpy, it will be understood as (type, (1,)) / '(1,)type'.\n",
      "  np_resource = np.dtype([(\"resource\", np.ubyte, 1)])\n",
      " 48%|████▊     | 1203/2498 [00:00<00:00, 5973.64it/s]"
     ]
    },
    {
     "name": "stdout",
     "output_type": "stream",
     "text": [
      "----- pre-processing train data -----\n"
     ]
    },
    {
     "name": "stderr",
     "output_type": "stream",
     "text": [
      "100%|██████████| 2498/2498 [00:00<00:00, 6573.63it/s]\n",
      "100%|██████████| 800/800 [00:00<00:00, 6865.67it/s]\n"
     ]
    },
    {
     "name": "stdout",
     "output_type": "stream",
     "text": [
      "----- tokenizing input data -----\n",
      "dictionary size:  4606\n"
     ]
    }
   ],
   "source": [
    "import keras\n",
    "from nltk.tokenize import RegexpTokenizer \n",
    "from nltk.tokenize import word_tokenize\n",
    "from keras.preprocessing.text import Tokenizer\n",
    "from keras.preprocessing import sequence\n",
    "\n",
    "tokenizer = RegexpTokenizer(r'\\w+')\n",
    "\n",
    "# adjust the max number of words given the tweet data\n",
    "\n",
    "MAX_NB_WORDS = 1000\n",
    "\n",
    "raw_docs_train = train_df['clean_text'].tolist()\n",
    "raw_docs_test = test_df['clean_text'].tolist() \n",
    "num_classes = len(label_names)\n",
    "\n",
    "print(\"----- pre-processing train data -----\")\n",
    "\n",
    "processed_docs_train = []\n",
    "for doc in tqdm(raw_docs_train):\n",
    "    tokens = word_tokenize(doc)\n",
    "    processed_docs_train.append(\" \".join(tokens))\n",
    "\n",
    "processed_docs_test = []\n",
    "for doc in tqdm(raw_docs_test):\n",
    "    tokens = word_tokenize(doc)\n",
    "    processed_docs_test.append(\" \".join(tokens))\n",
    "    \n",
    "print(\"----- tokenizing input data -----\")\n",
    "\n",
    "tokenizer = Tokenizer(num_words=MAX_NB_WORDS, lower=True, char_level=False)\n",
    "tokenizer.fit_on_texts(processed_docs_train + processed_docs_test)\n",
    "word_seq_train = tokenizer.texts_to_sequences(processed_docs_train)\n",
    "word_seq_test = tokenizer.texts_to_sequences(processed_docs_test)\n",
    "word_index = tokenizer.word_index\n",
    "print(\"dictionary size: \", len(word_index))\n",
    "\n",
    "# pad sequences to guarantee all the vectors have the same length\n",
    "\n",
    "word_seq_train = sequence.pad_sequences(word_seq_train, maxlen=max_seq_len)\n",
    "word_seq_test = sequence.pad_sequences(word_seq_test, maxlen=max_seq_len)"
   ]
  },
  {
   "cell_type": "code",
   "execution_count": 8,
   "metadata": {},
   "outputs": [
    {
     "name": "stdout",
     "output_type": "stream",
     "text": [
      "----- preparing embedding matrix -----\n"
     ]
    }
   ],
   "source": [
    "# prepare embedding matrix\n",
    "\n",
    "embed_dim = 300 # this number depends on the word embedding vectors\n",
    "\n",
    "print('----- preparing embedding matrix -----')\n",
    "\n",
    "words_not_found = []\n",
    "nb_words = min(MAX_NB_WORDS, len(word_index)+1)\n",
    "embedding_matrix = np.zeros((nb_words, embed_dim))\n",
    "\n",
    "for word, i in word_index.items():\n",
    "    if i >= nb_words:\n",
    "        continue\n",
    "    embedding_vector = embeddings_index.get(word)\n",
    "    if (embedding_vector is not None) and len(embedding_vector) > 0:\n",
    "        # words not found in embedding index will be all-zeros.\n",
    "        embedding_matrix[i] = embedding_vector\n",
    "    else:\n",
    "        words_not_found.append(word)"
   ]
  },
  {
   "cell_type": "code",
   "execution_count": 9,
   "metadata": {},
   "outputs": [
    {
     "name": "stdout",
     "output_type": "stream",
     "text": [
      "_________________________________________________________________\n",
      "Layer (type)                 Output Shape              Param #   \n",
      "=================================================================\n",
      "embedding (Embedding)        (None, 32, 300)           300000    \n",
      "_________________________________________________________________\n",
      "bidirectional (Bidirectional (None, 64)                85248     \n",
      "_________________________________________________________________\n",
      "dense (Dense)                (None, 32)                2080      \n",
      "_________________________________________________________________\n",
      "dropout (Dropout)            (None, 32)                0         \n",
      "_________________________________________________________________\n",
      "dense_1 (Dense)              (None, 4)                 132       \n",
      "=================================================================\n",
      "Total params: 387,460\n",
      "Trainable params: 87,460\n",
      "Non-trainable params: 300,000\n",
      "_________________________________________________________________\n"
     ]
    }
   ],
   "source": [
    "# compile deep learning model with keras\n",
    "\n",
    "import tensorflow as tf\n",
    "\n",
    "from keras import optimizers\n",
    "from keras import backend as K\n",
    "from keras import regularizers\n",
    "from keras.layers import BatchNormalization\n",
    "from keras.models import Sequential\n",
    "from keras.layers import Dense, Activation, Dropout, Flatten\n",
    "from keras.layers import Embedding, Conv1D, MaxPooling1D, GlobalMaxPooling1D\n",
    "from tensorflow.keras.layers import Embedding, LSTM, Dense, Dropout, Bidirectional\n",
    "from keras.utils import plot_model\n",
    "from keras.preprocessing import sequence\n",
    "from keras.callbacks import EarlyStopping\n",
    "\n",
    "# adjust the hyperparameters\n",
    "\n",
    "batch_size = 32\n",
    "num_epochs = 30\n",
    "learning_rate = 0.01\n",
    "drop_rate = 0.4\n",
    "\n",
    "# apply Keras to compile the deep learning model\n",
    "# binary classification: sigmoid, binary_crossentropy\n",
    "# multi-class classification: softmax, categorical_crossentropy\n",
    "\n",
    "model = tf.keras.Sequential()\n",
    "\n",
    "model.add(Embedding(nb_words, embed_dim, input_length=max_seq_len, weights=[embedding_matrix], trainable=False))\n",
    "model.add(Bidirectional(LSTM(32)))\n",
    "model.add(Dense(32,activation='relu'))\n",
    "model.add(Dropout(drop_rate))\n",
    "model.add(Dense(4,activation='softmax'))\n",
    "adam = optimizers.Adam(lr=learning_rate)\n",
    "model.compile(loss='categorical_crossentropy', optimizer='adam', metrics=['accuracy'])\n",
    "model.summary()"
   ]
  },
  {
   "cell_type": "code",
   "execution_count": 10,
   "metadata": {
    "scrolled": true
   },
   "outputs": [
    {
     "name": "stdout",
     "output_type": "stream",
     "text": [
      "Train on 1998 samples, validate on 500 samples\n",
      "Epoch 1/30\n",
      "1998/1998 [==============================] - 5s 2ms/step - loss: 1.1678 - acc: 0.5506 - val_loss: 1.7690 - val_acc: 0.1700\n",
      "Epoch 2/30\n",
      "1998/1998 [==============================] - 3s 1ms/step - loss: 0.9501 - acc: 0.6496 - val_loss: 1.5112 - val_acc: 0.1720\n",
      "Epoch 3/30\n",
      "1998/1998 [==============================] - 3s 1ms/step - loss: 0.7903 - acc: 0.7077 - val_loss: 1.1461 - val_acc: 0.3440\n",
      "Epoch 4/30\n",
      "1998/1998 [==============================] - 3s 1ms/step - loss: 0.7083 - acc: 0.7362 - val_loss: 0.8702 - val_acc: 0.7460\n",
      "Epoch 5/30\n",
      "1998/1998 [==============================] - 3s 1ms/step - loss: 0.6189 - acc: 0.7613 - val_loss: 0.6755 - val_acc: 0.8360\n",
      "Epoch 6/30\n",
      "1998/1998 [==============================] - 3s 2ms/step - loss: 0.5611 - acc: 0.7958 - val_loss: 0.6156 - val_acc: 0.8220\n",
      "Epoch 7/30\n",
      "1998/1998 [==============================] - 3s 2ms/step - loss: 0.4758 - acc: 0.8293 - val_loss: 0.5746 - val_acc: 0.8300\n",
      "Epoch 8/30\n",
      "1998/1998 [==============================] - 3s 2ms/step - loss: 0.4775 - acc: 0.8188 - val_loss: 0.6318 - val_acc: 0.8180\n",
      "Epoch 9/30\n",
      "1998/1998 [==============================] - 3s 2ms/step - loss: 0.4058 - acc: 0.8584 - val_loss: 0.7107 - val_acc: 0.7640\n",
      "Epoch 10/30\n",
      "1998/1998 [==============================] - 3s 2ms/step - loss: 0.3239 - acc: 0.8914 - val_loss: 0.7192 - val_acc: 0.7620\n",
      "Epoch 11/30\n",
      "1998/1998 [==============================] - 3s 2ms/step - loss: 0.2608 - acc: 0.9089 - val_loss: 0.6294 - val_acc: 0.7980\n",
      "Epoch 12/30\n",
      "1998/1998 [==============================] - 3s 2ms/step - loss: 0.2159 - acc: 0.9319 - val_loss: 0.4594 - val_acc: 0.8640\n",
      "Epoch 13/30\n",
      "1998/1998 [==============================] - 3s 2ms/step - loss: 0.1754 - acc: 0.9449 - val_loss: 0.4543 - val_acc: 0.8680\n",
      "Epoch 14/30\n",
      "1998/1998 [==============================] - 3s 2ms/step - loss: 0.1652 - acc: 0.9469 - val_loss: 0.5846 - val_acc: 0.8080\n",
      "Epoch 15/30\n",
      "1998/1998 [==============================] - 3s 2ms/step - loss: 0.1409 - acc: 0.9590 - val_loss: 0.5150 - val_acc: 0.8460\n",
      "Epoch 16/30\n",
      "1998/1998 [==============================] - 3s 1ms/step - loss: 0.1312 - acc: 0.9615 - val_loss: 0.5322 - val_acc: 0.8540\n",
      "Epoch 17/30\n",
      "1998/1998 [==============================] - 3s 1ms/step - loss: 0.0893 - acc: 0.9760 - val_loss: 0.4427 - val_acc: 0.8780\n",
      "Epoch 18/30\n",
      "1998/1998 [==============================] - 3s 1ms/step - loss: 0.1138 - acc: 0.9675 - val_loss: 0.6082 - val_acc: 0.8400\n",
      "Epoch 19/30\n",
      "1998/1998 [==============================] - 3s 2ms/step - loss: 0.1134 - acc: 0.9625 - val_loss: 0.5189 - val_acc: 0.8540\n",
      "Epoch 20/30\n",
      "1998/1998 [==============================] - 3s 1ms/step - loss: 0.0963 - acc: 0.9665 - val_loss: 0.4800 - val_acc: 0.8660\n",
      "Epoch 21/30\n",
      "1998/1998 [==============================] - 3s 1ms/step - loss: 0.1057 - acc: 0.9665 - val_loss: 0.4007 - val_acc: 0.8840\n",
      "Epoch 22/30\n",
      "1998/1998 [==============================] - 3s 1ms/step - loss: 0.0722 - acc: 0.9780 - val_loss: 0.3727 - val_acc: 0.9000\n",
      "Epoch 23/30\n",
      "1998/1998 [==============================] - 3s 2ms/step - loss: 0.0596 - acc: 0.9825 - val_loss: 0.5303 - val_acc: 0.8620\n",
      "Epoch 24/30\n",
      "1998/1998 [==============================] - 3s 2ms/step - loss: 0.0517 - acc: 0.9875 - val_loss: 0.5468 - val_acc: 0.8500\n",
      "Epoch 25/30\n",
      "1998/1998 [==============================] - 3s 2ms/step - loss: 0.0398 - acc: 0.9885 - val_loss: 0.5470 - val_acc: 0.8600\n",
      "Epoch 26/30\n",
      "1998/1998 [==============================] - 3s 2ms/step - loss: 0.0502 - acc: 0.9860 - val_loss: 0.5983 - val_acc: 0.8560\n",
      "Epoch 27/30\n",
      "1998/1998 [==============================] - 3s 2ms/step - loss: 0.0317 - acc: 0.9900 - val_loss: 0.6948 - val_acc: 0.8460\n",
      "Epoch 28/30\n",
      "1998/1998 [==============================] - 3s 2ms/step - loss: 0.0496 - acc: 0.9835 - val_loss: 0.5558 - val_acc: 0.8700\n",
      "Epoch 29/30\n",
      "1998/1998 [==============================] - 3s 2ms/step - loss: 0.0307 - acc: 0.9925 - val_loss: 0.7372 - val_acc: 0.8480\n",
      "Epoch 30/30\n",
      "1998/1998 [==============================] - 3s 2ms/step - loss: 0.0256 - acc: 0.9925 - val_loss: 0.7353 - val_acc: 0.8500\n"
     ]
    }
   ],
   "source": [
    "from keras.utils.np_utils import to_categorical\n",
    "\n",
    "y_train_cat = to_categorical(y_train)\n",
    "# to apply if it needs early stopping\n",
    "# es_callbacks = EarlyStopping(monitor='val_loss', patience=3, min_delta=0.0001)\n",
    "history = model.fit(word_seq_train, y_train_cat, batch_size, epochs=num_epochs, \n",
    "                    validation_split=0.2, shuffle=False)"
   ]
  },
  {
   "cell_type": "code",
   "execution_count": 11,
   "metadata": {},
   "outputs": [
    {
     "data": {
      "image/png": "[encoded data removed]",
      "text/plain": [
       "<Figure size 432x288 with 1 Axes>"
      ]
     },
     "metadata": {
      "needs_background": "light"
     },
     "output_type": "display_data"
    }
   ],
   "source": [
    "# generate loss plots\n",
    "\n",
    "plt.figure()\n",
    "plt.plot(history.history['loss'], lw=2.0, color='b', label='train')\n",
    "plt.plot(history.history['val_loss'], lw=2.0, color='r', label='val')\n",
    "plt.title('Text Classification')\n",
    "plt.xlabel('Epochs')\n",
    "plt.ylabel('Cross-Entropy Loss')\n",
    "plt.legend(loc='upper right')\n",
    "plt.show()"
   ]
  },
  {
   "cell_type": "code",
   "execution_count": 12,
   "metadata": {},
   "outputs": [
    {
     "data": {
      "image/png": "[encoded data removed]",
      "text/plain": [
       "<Figure size 432x288 with 1 Axes>"
      ]
     },
     "metadata": {
      "needs_background": "light"
     },
     "output_type": "display_data"
    }
   ],
   "source": [
    "# generate accuracy plots\n",
    "\n",
    "plt.figure()\n",
    "plt.plot(history.history['acc'], lw=2.0, color='b', label='train')\n",
    "plt.plot(history.history['val_acc'], lw=2.0, color='r', label='val')\n",
    "plt.title('Text Classification accuracy')\n",
    "plt.xlabel('Epochs')\n",
    "plt.ylabel('Accuracy')\n",
    "plt.legend(loc='upper left')\n",
    "plt.show()"
   ]
  },
  {
   "cell_type": "code",
   "execution_count": 13,
   "metadata": {},
   "outputs": [
    {
     "name": "stdout",
     "output_type": "stream",
     "text": [
      "Tesing accuracy with FastText: 83.00%\n",
      "              precision    recall  f1-score   support\n",
      "\n",
      "           3       0.87      0.75      0.80       197\n",
      "           2       0.59      0.74      0.66       136\n",
      "           1       0.93      0.90      0.92       448\n",
      "           0       0.48      0.58      0.52        19\n",
      "\n",
      "    accuracy                           0.83       800\n",
      "   macro avg       0.72      0.74      0.73       800\n",
      "weighted avg       0.84      0.83      0.83       800\n",
      "\n"
     ]
    }
   ],
   "source": [
    "# output classification performance\n",
    "\n",
    "import sklearn\n",
    "from sklearn.metrics import accuracy_score, confusion_matrix\n",
    "from sklearn.metrics import classification_report\n",
    "\n",
    "labels = ['3', '2', '1', '0']\n",
    "\n",
    "predictions = model.predict_classes(word_seq_test)\n",
    "sample = pd.read_excel('testing_2.xlsx')\n",
    "sample['pred'] = pd.Series(predictions)\n",
    "sample[['pred', \"label\"]]\n",
    "\n",
    "print(\"Testing accuracy with FastText: %.2f%%\" % (accuracy_score(sample.label, sample.pred)*100))\n",
    "print(classification_report(sample.label, sample.pred, target_names=labels))"
   ]
  },
  {
   "cell_type": "code",
   "execution_count": null,
   "metadata": {},
   "outputs": [],
   "source": []
  }
 ],
 "metadata": {
  "kernelspec": {
   "display_name": "Python 3",
   "language": "python",
   "name": "python3"
  },
  "language_info": {
   "codemirror_mode": {
    "name": "ipython",
    "version": 3
   },
   "file_extension": ".py",
   "mimetype": "text/x-python",
   "name": "python",
   "nbconvert_exporter": "python",
   "pygments_lexer": "ipython3",
   "version": "3.8.5"
  }
 },
 "nbformat": 4,
 "nbformat_minor": 2
}
