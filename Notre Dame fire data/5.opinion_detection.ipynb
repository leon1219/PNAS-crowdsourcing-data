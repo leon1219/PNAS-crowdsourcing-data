{
 "cells": [
  {
   "cell_type": "code",
   "execution_count": 1,
   "metadata": {},
   "outputs": [],
   "source": [
    "import re\n",
    "import pandas as pd"
   ]
  },
  {
   "cell_type": "markdown",
   "metadata": {},
   "source": [
    "### 1. Lexicon-based Libraries"
   ]
  },
  {
   "cell_type": "code",
   "execution_count": 2,
   "metadata": {},
   "outputs": [],
   "source": [
    "fire_list = [\"cigar\", \"combustible\", \"welding\", \"gasoline\", \"lighter\", \"malfunction\", \n",
    "             \"wiring\", \"circuit\", \"electric\", \"arson\", \"act of god\", \"human error\"]\n",
    "\n",
    "negation_words = [\"no\", \"non\", \"not\", \"isn't\", \"aren't\", \"wasn't\", \"weren't\", \"haven't\", \"hasn't\", \"hadn't\", \n",
    "                  \"don't\", \"doesn't\", \"didn't\", \"can't\", \"cannot\", \"couldn't\", \"mightn't\", \"mayn't\",\n",
    "                  \"mustn't\", \"impossible\", \"shan't\", \"shouldn't\", \"won't\", \"wouldn't\", \"doubt\", \"doubted\",\n",
    "                  \"needn't\", \"oughtn't\", \"unlikely\", \"nothing\", \"shocked\", \"imaginary\", \"dismiss\", \"ironic\", \n",
    "                  \"deny\", \"denies\", \"denied\", \"without\", \"absence\", \"declined\", \"negative\", \"nobody\", \"cautious\", \n",
    "                  \"strange\", \"suspicious\", \"coverup\", \"rejected\", \"dismissed\", \"disagree\", \"exclude\", \"excluded\",  \n",
    "                  \"ashamed\", \"conspiracy\", \"reject\", \"fake\", \"rumor\", \"upgraded\", \"replaced\", \"revised\", \"quickest\",\n",
    "                  \"restored\", \"updated\", \"overhauled\", \"surprised\", \"incorrect\", \"incorrectly\", \"dispute\", \"disputed\",\n",
    "                  \"pretending\"]\n",
    "\n",
    "negation_phrases = [\"rule out\", \"rules out\", \"ruled out\", \"ruling out\", \"hard to believe\", \"political decision\", \n",
    "                    \"rushed to say\", \"too soon\", \"quick to say\", \"smells fishy\", \"in spite\", \"so quick\", \n",
    "                    \"ass kicked\", \"to blame\", \"be ashamed\", \"awfully strange\"]\n",
    "\n",
    "comment_negation_words = [\"but\", \"however\", \"nevertheless\", \"ironic\", \"cautious\", \"deny\", \"denies\", \"denied\", \n",
    "                          \"strange\", \"suspicious\", \"coverup\", \"nobody\", \"disagree\", \"impossible\", \"though\",\n",
    "                          \"stupid\", \"stupidity\", \"lie\", \"lied\", \"lying\", \"ridiculous\", \"fake\", \"doubt\", \"doubted\",\n",
    "                          \"while\", \"gullible\", \"hiding\", \"hide\", \"unacceptable\", \"bullshit\", \"misleading\"]\n",
    "\n",
    "comment_negation_phrases = [\"🙄\", \"hard to believe\", \"political decision\",\"i would really\", \"difficult to accept\",\n",
    "                            \"rushed to say\", \"too quick\", \"too soon\", \"quick to say\", \"smells fishy\", \n",
    "                            \"as long as\", \"believe different\", \"even while\", \"brain worms\", \"we're not gonna\",\n",
    "                            \"all fail\", \"so quick\", \"calling bs\", \"need answers\", \"never be known\",\n",
    "                            \"to blame\", \"too effective to\", \"doesn't work\", \"does not work\", \n",
    "                            \"short circuit in thinking\",\"awfully strange\", \"don't believe\", \n",
    "                            \"doesn't burn\", \"can't trust\", \"gullible idiot\"]\n",
    "\n",
    "tag_question_negation = [\"don't they\", \"didn't they\", \"don't we\", \"didn't we\", \"won't they\", \"won't we\", \"don't you\",\n",
    "                         \"shouldn't they\", \"shouldn't we\", \"aren't we\", \"aren't they\", \"isn't it\", \"wasn't it\"]\n",
    "\n",
    "uncertain_words = [\"don't know\", \"idk\", \"hope\", \"pray\", \"wish\", \"hoping\", \"investigate whether\",\n",
    "                   \"looking into whether\"]"
   ]
  },
  {
   "cell_type": "code",
   "execution_count": 3,
   "metadata": {},
   "outputs": [],
   "source": [
    "assert len(negation_words) == len(set(negation_words)), (\"duplicates in the negation words\")\n",
    "assert len(negation_phrases) == len(set(negation_phrases)), (\"duplicates in the negation phrases\")\n",
    "assert len(comment_negation_words) == len(set(comment_negation_words)), (\"duplicates in the comment words\")\n",
    "assert len(comment_negation_phrases) == len(set(comment_negation_phrases)), (\"duplicates in the comment phrases\")\n",
    "assert len(tag_question_negation) == len(set(tag_question_negation)), (\"duplicates in the tag question\")\n",
    "assert len(uncertain_words) == len(set(uncertain_words)), (\"duplicates in the uncertain words\")"
   ]
  },
  {
   "cell_type": "markdown",
   "metadata": {},
   "source": [
    "### 2. Text Cleaning and Model Design"
   ]
  },
  {
   "cell_type": "code",
   "execution_count": 4,
   "metadata": {},
   "outputs": [],
   "source": [
    "def remove_stopwords(tweet):\n",
    "    \"\"\"\n",
    "    Aim to remove stopwords. \n",
    "    \"\"\"\n",
    "    tweet_words = tweet.split()\n",
    "    tweet_words = [word for word in tweet_words if word not in stopwords]\n",
    "    tweet = ' '.join(tweet_words)\n",
    "    return tweet\n",
    "\n",
    "def remove_text(tweet):\n",
    "    \"\"\"\n",
    "    Remove RT: @user, http://, and @user in a tweet.\n",
    "    \"\"\"\n",
    "    tweet = re.sub(r'http\\S+', '', tweet)\n",
    "    tweet = re.sub('(RT\\s@[A-Za-z0-9-_]+[A-Za-z0-9-_]: +)', '', tweet)\n",
    "    tweet = re.sub('(@[A-Za-z0-9-_]+[A-Za-z0-9-_]+)', '', tweet)\n",
    "    return tweet\n",
    "\n",
    "def clean_text(tweet):\n",
    "    \"\"\"\n",
    "    Clean a tweet and return a list of texts.\n",
    "    \"\"\"\n",
    "    tweet = remove_text(tweet)\n",
    "    tweet = tweet.lower().strip()\n",
    "    tweet = tweet.replace(\"&#39;\", \"'\")\n",
    "    tweet = tweet.replace(\"&quot;\", \"\")\n",
    "    tweet = tweet.replace(\" &amp;\", \"\")\n",
    "    tweet = tweet.replace(\"&amp\", \"\")\n",
    "    # we consider circuit and wiring all as electric factors\n",
    "    tweet = tweet.replace(\"circuit\", 'electric') \n",
    "    tweet = tweet.replace(\"wiring\", 'electric')\n",
    "    tweet = tweet.replace(\"but also\", \"also\")\n",
    "    tweet = tweet.replace(\"starter,\", \"starter\")\n",
    "    tweet = tweet.replace(\"rod,\", \"rod\")\n",
    "    tweet = tweet.replace(\"blowtorch,\", \"blowtorch\")\n",
    "    tweet = tweet.replace(\"arson,\", \"arson\")\n",
    "    tweet = tweet.replace(\"electric welding\", \"welding\")\n",
    "    tweet = tweet.replace(\", and\", \" and\")\n",
    "    tweet = tweet.replace(\" but \", \", but \")\n",
    "    tweet = tweet.replace(\" even though \", \", even though \")\n",
    "    tweet = tweet.replace(\"\\n\", \". \")\n",
    "    tweet = tweet.replace(\"\\r\", \". \")\n",
    "    tweet = tweet.replace(\"\\r\\n\", \". \")\n",
    "    tweet = tweet.replace(\"----\", \".\")\n",
    "    tweet = tweet.replace(\"...\", \".\")\n",
    "    tweet = tweet.replace(\"…\", \".\")\n",
    "    tweet = tweet.replace(\"’\", \"'\")\n",
    "    tweet = tweet.replace(\",\", \",.\")\n",
    "    tweet = tweet.replace(\";\", \";.\")\n",
    "    tweet = tweet.replace(\"!\", \"!.\")\n",
    "    tweet = tweet.replace(\"?\", \"?.\")\n",
    "    return tweet\n",
    "\n",
    "def remove_punctuations(text):\n",
    "    \"\"\"\n",
    "    Remove punctuations except '?' and \"'\" in the text.\n",
    "    \"\"\"\n",
    "    punctuations = '''!()-[]{};:\"\\,<>./@#$%^&*_~'''\n",
    "    no_punc_text = \"\"\n",
    "    for char in text:\n",
    "        if char not in punctuations:\n",
    "            no_punc_text += char\n",
    "    return no_punc_text"
   ]
  },
  {
   "cell_type": "code",
   "execution_count": 5,
   "metadata": {},
   "outputs": [],
   "source": [
    "def check_fireword(text):\n",
    "    \"\"\"\n",
    "    Check the keyword of fire causes in a text.\n",
    "    \"\"\"\n",
    "    word_list = [word for word in fire_list if word in text.lower()]\n",
    "    return word_list\n",
    "\n",
    "\n",
    "def check_negation(text):\n",
    "    \"\"\"\n",
    "    Check the negation words and phrases in a text.\n",
    "    \"\"\"\n",
    "    neg_count = 0\n",
    "    for phrase in tag_question_negation:\n",
    "        text = text.lower().replace(phrase, \"\").strip()\n",
    "    for word in negation_words:\n",
    "        if word in text.lower().split():\n",
    "            neg_count += 1\n",
    "    for phrase in negation_phrases:\n",
    "        if phrase in text:\n",
    "            neg_count += 1\n",
    "    #print(\"negation\", neg_count)\n",
    "    return -1 if (neg_count % 2) == 1 else 1\n",
    "\n",
    "\n",
    "def check_comment_multiple(fireword, text, next1_text, next2_text):\n",
    "    \"\"\"\n",
    "    Check the adversative relation for a text with multiple fire causes keywords.\n",
    "    \"\"\"\n",
    "    neg_count = 0\n",
    "    negation_list = negation_words + negation_phrases\n",
    "    negation = ' '.join(negation_list)\n",
    "    next_text = next1_text + \" \" + next2_text\n",
    "    #print(next_text)\n",
    "    for word in comment_negation_words:\n",
    "        if word in text.split() and word not in negation and text.index(word) > text.index(fireword):\n",
    "            neg_count += 1\n",
    "        elif word in next_text.split():\n",
    "            neg_count += 1\n",
    "    for phrase in comment_negation_phrases:\n",
    "        if phrase in text and phrase not in negation and text.index(phrase) > text.index(fireword):\n",
    "            neg_count += 1\n",
    "        elif phrase in next_text:\n",
    "            neg_count += 1\n",
    "    #print(\"comment\", neg_count)\n",
    "    return -1 if neg_count > 0 else 1\n",
    "\n",
    "\n",
    "def check_comment_one(fireword, text, subseq_text):\n",
    "    \"\"\"\n",
    "    Check the adversative relation for a text with only one fire cause keyword.\n",
    "    \"\"\"\n",
    "    neg_count = 0\n",
    "    negation_list = negation_words + negation_phrases\n",
    "    negation = ' '.join(negation_list)\n",
    "    for word in comment_negation_words:\n",
    "        if word in text.split() and word not in negation and text.index(word) > text.index(fireword):\n",
    "            neg_count += 1\n",
    "        elif word in subseq_text.lower().split():\n",
    "            neg_count += 1\n",
    "    for phrase in comment_negation_phrases:\n",
    "        if phrase in text and phrase not in negation and text.index(phrase) > text.index(fireword):\n",
    "            neg_count += 1\n",
    "        elif phrase in subseq_text:\n",
    "            neg_count += 1\n",
    "    #print(\"comment\", neg_count)\n",
    "    return -1 if neg_count > 0 else 1\n",
    "\n",
    "\n",
    "def check_uncertain(fireword, text, last_text):\n",
    "    \"\"\"\n",
    "    Check the uncertainty of a text.\n",
    "    \"\"\"\n",
    "    if text == last_text and last_text.strip()[-1] == \"?\" and fireword in last_text:\n",
    "        return 0\n",
    "    elif fireword in text and any(word in text for word in uncertain_words):\n",
    "        return 0\n",
    "    else:\n",
    "        return 1"
   ]
  },
  {
   "cell_type": "code",
   "execution_count": 6,
   "metadata": {},
   "outputs": [],
   "source": [
    "def label_tweet(tweet):\n",
    "    \"\"\"\n",
    "    Label a tweet with fire causes keywords.\n",
    "    \"\"\"\n",
    "    tweet = clean_text(tweet)\n",
    "    fireword_list = check_fireword(tweet)\n",
    "    #print(fireword_list)\n",
    "    \n",
    "    text_list = tweet.split('. ')\n",
    "    text_list = filter(None, text_list)\n",
    "    text_list = [remove_punctuations(text) for text in text_list]\n",
    "    text_list = [text.rstrip() for text in text_list]\n",
    "    #print(text_list)\n",
    "    \n",
    "    last_text = text_list[-1]\n",
    "    text_list += [\"-\"] + [\"-\"] \n",
    "    \n",
    "    fire_causes = list()\n",
    "    if len(fireword_list) == 1:\n",
    "        fireword = fireword_list[0]\n",
    "        for i in range(len(text_list)):\n",
    "            text = text_list[i]\n",
    "            subseq_text = ' '.join(text_list[i+1:])\n",
    "            if fireword in text:\n",
    "                negation = check_negation(text)\n",
    "                #print(\"negation\", negation)\n",
    "                comment = check_comment_one(fireword, text, subseq_text)\n",
    "                #print(\"comment\", comment)\n",
    "                uncertainty = check_uncertain(fireword, text, last_text)\n",
    "                #print(\"uncertainty\", uncertainty)\n",
    "                polarity = negation * comment * uncertainty\n",
    "                fire_causes.append((fireword, polarity))\n",
    "                          \n",
    "    elif len(fireword_list) > 1:               \n",
    "        for fireword in fireword_list:\n",
    "            for i in range(len(text_list)-2):\n",
    "                text = text_list[i]\n",
    "                next1_text = text_list[i+1]\n",
    "                next2_text = text_list[i+2]\n",
    "                if fireword in text:\n",
    "                    negation = check_negation(text)\n",
    "                    #print(\"negation\", negation)\n",
    "                    comment = check_comment_multiple(fireword, text, next1_text, next2_text)\n",
    "                    #print(\"comment\", comment)\n",
    "                    uncertainty = check_uncertain(fireword, text, last_text)\n",
    "                    #print(\"uncertainty\", uncertainty)\n",
    "                    polarity = negation * comment * uncertainty\n",
    "                    fire_causes.append((fireword, polarity))\n",
    "    \n",
    "    fire_causes_dict = {}\n",
    "    for (key, value) in fire_causes:\n",
    "        fire_causes_dict[key] = value\n",
    "    \n",
    "    return fire_causes_dict"
   ]
  },
  {
   "cell_type": "code",
   "execution_count": 7,
   "metadata": {},
   "outputs": [
    {
     "data": {
      "text/plain": [
       "{'arson': -1}"
      ]
     },
     "execution_count": 7,
     "metadata": {},
     "output_type": "execute_result"
    }
   ],
   "source": [
    "# This is a test\n",
    "tweet1 = \"The police ruled out the factor of arson\"\n",
    "\n",
    "label_tweet(tweet1)"
   ]
  },
  {
   "attachments": {},
   "cell_type": "markdown",
   "metadata": {},
   "source": [
    "### 4. Read Sample Data\n",
    "Restrictions apply to the availability of Twitter data, which are used under license for the current study, and so specific tweets messages are not publicly available. We forgot to save the tweet IDs when downloading the data for this research. Therefore, if you need our manual classifications for those tweets, please directly contact us. Data files are available upon reasonable requests."
   ]
  },
  {
   "cell_type": "code",
   "execution_count": 8,
   "metadata": {},
   "outputs": [],
   "source": [
    "from sklearn.metrics import confusion_matrix\n",
    "df_sample = pd.read_excel('sample_verification.xlsx')"
   ]
  },
  {
   "cell_type": "code",
   "execution_count": 9,
   "metadata": {},
   "outputs": [
    {
     "name": "stdout",
     "output_type": "stream",
     "text": [
      "[[128   4  59]\n",
      " [  1   7   9]\n",
      " [ 25   7 325]]\n"
     ]
    },
    {
     "name": "stderr",
     "output_type": "stream",
     "text": [
      "<ipython-input-9-ade454efe700>:11: UserWarning: FixedFormatter should only be used together with FixedLocator\n",
      "  ax.set_xticklabels([''] + labels)\n",
      "<ipython-input-9-ade454efe700>:12: UserWarning: FixedFormatter should only be used together with FixedLocator\n",
      "  ax.set_yticklabels([''] + labels)\n"
     ]
    },
    {
     "data": {
      "image/png": "[encoded data removed]",
      "text/plain": [
       "<Figure size 432x288 with 2 Axes>"
      ]
     },
     "metadata": {
      "needs_background": "light"
     },
     "output_type": "display_data"
    }
   ],
   "source": [
    "import matplotlib.pyplot as plt\n",
    "%matplotlib inline\n",
    "\n",
    "labels = [\"not support\", \"no idea\", \"support\"]\n",
    "matrix = confusion_matrix(df_sample['manually_label'], df_sample['machined_label'])\n",
    "print(matrix)\n",
    "fig = plt.figure()\n",
    "ax = fig.add_subplot(111)\n",
    "cax = ax.matshow(matrix)\n",
    "fig.colorbar(cax)\n",
    "ax.set_xticklabels([''] + labels)\n",
    "ax.set_yticklabels([''] + labels)\n",
    "plt.xlabel('Predicted')\n",
    "plt.ylabel('Manual Labels')\n",
    "plt.show()"
   ]
  },
  {
   "cell_type": "code",
   "execution_count": 10,
   "metadata": {},
   "outputs": [
    {
     "name": "stdout",
     "output_type": "stream",
     "text": [
      "              precision    recall  f1-score   support\n",
      "\n",
      "          -1       0.83      0.67      0.74       191\n",
      "           0       0.39      0.41      0.40        17\n",
      "           1       0.83      0.91      0.87       357\n",
      "\n",
      "    accuracy                           0.81       565\n",
      "   macro avg       0.68      0.66      0.67       565\n",
      "weighted avg       0.82      0.81      0.81       565\n",
      "\n"
     ]
    }
   ],
   "source": [
    "from sklearn.metrics import classification_report\n",
    "\n",
    "print(classification_report(df_sample['manually_label'], df_sample['machined_label']))"
   ]
  },
  {
   "cell_type": "code",
   "execution_count": null,
   "metadata": {},
   "outputs": [],
   "source": []
  }
 ],
 "metadata": {
  "kernelspec": {
   "display_name": "Python 3",
   "language": "python",
   "name": "python3"
  },
  "language_info": {
   "codemirror_mode": {
    "name": "ipython",
    "version": 3
   },
   "file_extension": ".py",
   "mimetype": "text/x-python",
   "name": "python",
   "nbconvert_exporter": "python",
   "pygments_lexer": "ipython3",
   "version": "3.8.5"
  }
 },
 "nbformat": 4,
 "nbformat_minor": 2
}
